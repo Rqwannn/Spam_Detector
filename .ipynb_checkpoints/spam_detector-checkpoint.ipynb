{
 "cells": [
  {
   "cell_type": "code",
   "execution_count": 42,
   "id": "58a7e8ba-40f6-45db-bfba-d5a9dee988f9",
   "metadata": {},
   "outputs": [],
   "source": [
    "from sklearn.naive_bayes import MultinomialNB\n",
    "from sklearn.ensemble import AdaBoostClassifier\n",
    "import pandas as pd\n",
    "import numpy as np"
   ]
  },
  {
   "cell_type": "code",
   "execution_count": 57,
   "id": "c0d8ecb3-10be-4de4-a7d7-26a9b95a3089",
   "metadata": {},
   "outputs": [],
   "source": [
    "data = pd.read_csv(\"assets/spambase.data\").values\n",
    "np.random.shuffle(data)"
   ]
  },
  {
   "cell_type": "code",
   "execution_count": 58,
   "id": "8fa87eb0-57c9-4193-ade6-10a5fbe0b2dd",
   "metadata": {},
   "outputs": [
    {
     "data": {
      "text/plain": [
       "(4600,\n",
       " array([[0.000e+00, 0.000e+00, 7.100e-01, 0.000e+00, 0.000e+00, 0.000e+00,\n",
       "         0.000e+00, 0.000e+00, 0.000e+00, 0.000e+00, 0.000e+00, 7.100e-01,\n",
       "         7.100e-01, 0.000e+00, 0.000e+00, 0.000e+00, 0.000e+00, 0.000e+00,\n",
       "         7.100e-01, 0.000e+00, 0.000e+00, 0.000e+00, 0.000e+00, 0.000e+00,\n",
       "         0.000e+00, 0.000e+00, 0.000e+00, 0.000e+00, 0.000e+00, 0.000e+00,\n",
       "         0.000e+00, 0.000e+00, 0.000e+00, 0.000e+00, 0.000e+00, 0.000e+00,\n",
       "         0.000e+00, 0.000e+00, 0.000e+00, 0.000e+00, 0.000e+00, 0.000e+00,\n",
       "         0.000e+00, 0.000e+00, 0.000e+00, 0.000e+00, 0.000e+00, 0.000e+00,\n",
       "         0.000e+00, 1.210e-01, 0.000e+00, 2.430e-01, 0.000e+00, 0.000e+00,\n",
       "         1.000e+00, 1.000e+00, 3.100e+01, 0.000e+00],\n",
       "        [5.000e-01, 0.000e+00, 5.000e-01, 0.000e+00, 1.510e+00, 0.000e+00,\n",
       "         0.000e+00, 0.000e+00, 0.000e+00, 0.000e+00, 5.000e-01, 1.010e+00,\n",
       "         0.000e+00, 0.000e+00, 0.000e+00, 0.000e+00, 0.000e+00, 0.000e+00,\n",
       "         4.040e+00, 0.000e+00, 3.030e+00, 0.000e+00, 0.000e+00, 0.000e+00,\n",
       "         0.000e+00, 0.000e+00, 0.000e+00, 0.000e+00, 0.000e+00, 0.000e+00,\n",
       "         0.000e+00, 0.000e+00, 0.000e+00, 0.000e+00, 5.000e-01, 0.000e+00,\n",
       "         0.000e+00, 0.000e+00, 0.000e+00, 0.000e+00, 0.000e+00, 0.000e+00,\n",
       "         0.000e+00, 0.000e+00, 1.010e+00, 0.000e+00, 0.000e+00, 0.000e+00,\n",
       "         0.000e+00, 8.900e-02, 0.000e+00, 8.900e-02, 1.780e-01, 0.000e+00,\n",
       "         3.416e+00, 5.300e+01, 1.640e+02, 1.000e+00]]))"
      ]
     },
     "execution_count": 58,
     "metadata": {},
     "output_type": "execute_result"
    }
   ],
   "source": [
    "data.shape, data[:2]"
   ]
  },
  {
   "cell_type": "code",
   "execution_count": 51,
   "id": "ccc4bb2a-766e-4600-9705-3cf0ed99ff53",
   "metadata": {},
   "outputs": [],
   "source": [
    "X = data[:, :48]\n",
    "Y = data[:, -1]"
   ]
  },
  {
   "cell_type": "code",
   "execution_count": 52,
   "id": "97ee16f0-612e-4bd5-91cc-9cce3e96ff63",
   "metadata": {},
   "outputs": [],
   "source": [
    "XTrain = X[:-100,]\n",
    "YTrain = Y[:-100,]\n",
    "XTest = X[-100:,]\n",
    "YTest = Y[-100:,]"
   ]
  },
  {
   "cell_type": "code",
   "execution_count": 53,
   "id": "9fe3a50d-2329-421b-a26f-b5220e95d80a",
   "metadata": {},
   "outputs": [
    {
     "data": {
      "text/plain": [
       "MultinomialNB()"
      ]
     },
     "execution_count": 53,
     "metadata": {},
     "output_type": "execute_result"
    }
   ],
   "source": [
    "model = MultinomialNB()\n",
    "model.fit(XTrain, YTrain)"
   ]
  },
  {
   "cell_type": "code",
   "execution_count": 54,
   "id": "9b422349-fa4c-4ef0-bf35-9eab4207470a",
   "metadata": {},
   "outputs": [
    {
     "name": "stdout",
     "output_type": "stream",
     "text": [
      "Classification Rate For NB : 0.88\n"
     ]
    }
   ],
   "source": [
    "print(f\"Classification Rate For NB : {model.score(XTest, YTest)}\")"
   ]
  },
  {
   "cell_type": "code",
   "execution_count": 55,
   "id": "f0eeb296-58ab-40af-a6bc-c3b0dad1671d",
   "metadata": {},
   "outputs": [
    {
     "data": {
      "text/plain": [
       "AdaBoostClassifier()"
      ]
     },
     "execution_count": 55,
     "metadata": {},
     "output_type": "execute_result"
    }
   ],
   "source": [
    "model = AdaBoostClassifier()\n",
    "model.fit(XTrain, YTrain)"
   ]
  },
  {
   "cell_type": "code",
   "execution_count": 56,
   "id": "a3b98df8-9548-4317-9bba-ee3d4d4016e6",
   "metadata": {},
   "outputs": [
    {
     "name": "stdout",
     "output_type": "stream",
     "text": [
      "Classification Rate For AdaBoost : 0.94\n"
     ]
    }
   ],
   "source": [
    "print(f\"Classification Rate For AdaBoost : {model.score(XTest, YTest)}\")"
   ]
  },
  {
   "cell_type": "code",
   "execution_count": null,
   "id": "9b15ff1c-0667-40e9-90f3-4cd78333e25d",
   "metadata": {},
   "outputs": [],
   "source": []
  }
 ],
 "metadata": {
  "kernelspec": {
   "display_name": "Python 3 (ipykernel)",
   "language": "python",
   "name": "python3"
  },
  "language_info": {
   "codemirror_mode": {
    "name": "ipython",
    "version": 3
   },
   "file_extension": ".py",
   "mimetype": "text/x-python",
   "name": "python",
   "nbconvert_exporter": "python",
   "pygments_lexer": "ipython3",
   "version": "3.9.13"
  }
 },
 "nbformat": 4,
 "nbformat_minor": 5
}
